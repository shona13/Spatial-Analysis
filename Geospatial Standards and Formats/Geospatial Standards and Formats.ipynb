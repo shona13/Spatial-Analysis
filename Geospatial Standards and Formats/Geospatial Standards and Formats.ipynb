{
 "cells": [
  {
   "cell_type": "markdown",
   "metadata": {
    "id": "e0KNF2U3gLyI"
   },
   "source": [
    "# Geospatial Standards and Formats"
   ]
  },
  {
   "cell_type": "markdown",
   "metadata": {
    "id": "X2K5d4shQL26"
   },
   "source": [
    "## **Part A. Read and Query Data**\n",
    "\n",
    "---\n",
    "\n"
   ]
  },
  {
   "cell_type": "markdown",
   "metadata": {
    "id": "rWaILVPBGZXa"
   },
   "source": [
    "> First we will import all the required packages required for this assignment."
   ]
  },
  {
   "cell_type": "code",
   "execution_count": null,
   "metadata": {
    "id": "BtoF9PQ6u3Oz"
   },
   "outputs": [],
   "source": [
    "# Importing the pandas and geopandas package\n",
    "import pandas as pd\n",
    "import geopandas as gpd"
   ]
  },
  {
   "cell_type": "markdown",
   "metadata": {
    "id": "mcmvJXWeitpO"
   },
   "source": [
    "#### 1. What is (are) the name(s) of the Aboriginal Lands (AL_TA_NB_2_143_eng) within York County?\n",
    "\n"
   ]
  },
  {
   "cell_type": "code",
   "execution_count": null,
   "metadata": {
    "id": "uUQ2f2w9kKkz"
   },
   "outputs": [],
   "source": [
    "# To display all the columns whenever .head() is used\n",
    "pd.options.display.max_columns = None"
   ]
  },
  {
   "cell_type": "markdown",
   "metadata": {
    "id": "WI3DqNw4lbO-"
   },
   "source": [
    "\n",
    "\n",
    "> Reading the .shp files in GeoDataFrames.\n",
    "\n",
    "\n",
    "\n"
   ]
  },
  {
   "cell_type": "code",
   "execution_count": null,
   "metadata": {
    "id": "_4JHeQJUueAI"
   },
   "outputs": [],
   "source": [
    "# Reading the .shp files in GeoDataFrames.\n",
    "\n",
    "abl = gpd.read_file('/content/drive/MyDrive/Colab Notebooks/data/AL_TA_NB_2_143_eng.shp')\n",
    "county = gpd.read_file('/content/drive/MyDrive/Colab Notebooks/data/geonb_county.shp')"
   ]
  },
  {
   "cell_type": "markdown",
   "metadata": {
    "id": "5KEphhtRmSpo"
   },
   "source": [
    "\n",
    "\n",
    "> Now, we will check if the CRS of both GeoDataFrames abl and county is same or not. \n",
    "\n",
    "\n",
    "\n"
   ]
  },
  {
   "cell_type": "code",
   "execution_count": null,
   "metadata": {
    "colab": {
     "base_uri": "https://localhost:8080/"
    },
    "executionInfo": {
     "elapsed": 322,
     "status": "ok",
     "timestamp": 1676399628785,
     "user": {
      "displayName": "Sonal J",
      "userId": "09986047581759812294"
     },
     "user_tz": 240
    },
    "id": "RFk3vqcRP-KL",
    "outputId": "88792bdc-db4a-44f6-b351-028816db0e6e"
   },
   "outputs": [
    {
     "data": {
      "text/plain": [
       "<Geographic 2D CRS: GEOGCS[\"GCS_North_American_1983_CSRS98\",DATUM[\"D_N ...>\n",
       "Name: GCS_North_American_1983_CSRS98\n",
       "Axis Info [ellipsoidal]:\n",
       "- lon[east]: Longitude (Degree)\n",
       "- lat[north]: Latitude (Degree)\n",
       "Area of Use:\n",
       "- undefined\n",
       "Datum: D_North_American_1983_CSRS98\n",
       "- Ellipsoid: GRS 1980\n",
       "- Prime Meridian: Greenwich"
      ]
     },
     "execution_count": 124,
     "metadata": {},
     "output_type": "execute_result"
    }
   ],
   "source": [
    "abl.crs"
   ]
  },
  {
   "cell_type": "code",
   "execution_count": null,
   "metadata": {
    "colab": {
     "base_uri": "https://localhost:8080/"
    },
    "executionInfo": {
     "elapsed": 183,
     "status": "ok",
     "timestamp": 1676399965725,
     "user": {
      "displayName": "Sonal J",
      "userId": "09986047581759812294"
     },
     "user_tz": 240
    },
    "id": "UnTyAaMsQAbI",
    "outputId": "64d9e34b-3256-4c95-90df-95401c1a850f"
   },
   "outputs": [
    {
     "data": {
      "text/plain": [
       "<Derived Projected CRS: EPSG:2953>\n",
       "Name: NAD83(CSRS) / New Brunswick Stereographic\n",
       "Axis Info [cartesian]:\n",
       "- N[north]: Northing (metre)\n",
       "- E[east]: Easting (metre)\n",
       "Area of Use:\n",
       "- name: Canada - New Brunswick.\n",
       "- bounds: (-69.05, 44.56, -63.7, 48.07)\n",
       "Coordinate Operation:\n",
       "- name: New Brunswick Stereographic (NAD83)\n",
       "- method: Oblique Stereographic\n",
       "Datum: NAD83 Canadian Spatial Reference System\n",
       "- Ellipsoid: GRS 1980\n",
       "- Prime Meridian: Greenwich"
      ]
     },
     "execution_count": 125,
     "metadata": {},
     "output_type": "execute_result"
    }
   ],
   "source": [
    "county.crs"
   ]
  },
  {
   "cell_type": "markdown",
   "metadata": {
    "id": "JBfUelHxm5Pl"
   },
   "source": [
    "> To perform operations, both .shp files should be using same CRS."
   ]
  },
  {
   "cell_type": "code",
   "execution_count": null,
   "metadata": {
    "id": "nymZqqwjGdw7"
   },
   "outputs": [],
   "source": [
    "# Converting AL_TA_NB_2_143_eng to EPSG:2953\n",
    "abl_2953 = abl.to_crs('EPSG:2953')"
   ]
  },
  {
   "cell_type": "code",
   "execution_count": null,
   "metadata": {
    "colab": {
     "base_uri": "https://localhost:8080/"
    },
    "executionInfo": {
     "elapsed": 209,
     "status": "ok",
     "timestamp": 1676399970792,
     "user": {
      "displayName": "Sonal J",
      "userId": "09986047581759812294"
     },
     "user_tz": 240
    },
    "id": "E2_h45kI500O",
    "outputId": "9476431d-a9d6-4ca5-b87e-0ae557639ffe"
   },
   "outputs": [
    {
     "data": {
      "text/plain": [
       "19     KINGSCLEAR INDIAN RESERVE NO. 6\n",
       "23    ST. MARY'S INDIAN RESERVE NO. 24\n",
       "24         DEVON INDIAN RESERVE NO. 30\n",
       "Name: NAME1, dtype: object"
      ]
     },
     "execution_count": 127,
     "metadata": {},
     "output_type": "execute_result"
    }
   ],
   "source": [
    "#iloc uses the row with york county i.e row 0\n",
    "abl_york = abl_2953[abl_2953.within(county.geometry.iloc[0])]\n",
    "\n",
    "# This displays the names of Aboriginal Lands within York county.\n",
    "abl_york.loc[:,'NAME1'].head()"
   ]
  },
  {
   "cell_type": "markdown",
   "metadata": {
    "id": "y5_qKXsDQcEj"
   },
   "source": [
    "####2. In the FloodExtent file, what is the maximum water level recorded?"
   ]
  },
  {
   "cell_type": "markdown",
   "metadata": {
    "id": "bFLEAyh4n034"
   },
   "source": [
    "> We will read te .shp file into a GeoDataFrame and then get the max level using the column which has the values of water levels"
   ]
  },
  {
   "cell_type": "code",
   "execution_count": null,
   "metadata": {
    "id": "rwghPaMhQthN"
   },
   "outputs": [],
   "source": [
    "# Reading the .shp file\n",
    "fle = gpd.read_file('/content/drive/MyDrive/Colab Notebooks/data/Flood_Extent_2018_LowerSaintJohn.shp')"
   ]
  },
  {
   "cell_type": "code",
   "execution_count": null,
   "metadata": {
    "colab": {
     "base_uri": "https://localhost:8080/",
     "height": 511
    },
    "executionInfo": {
     "elapsed": 30,
     "status": "ok",
     "timestamp": 1676399990051,
     "user": {
      "displayName": "Sonal J",
      "userId": "09986047581759812294"
     },
     "user_tz": 240
    },
    "id": "iYYitoERoKoI",
    "outputId": "0de7b96f-e0c2-43fa-b5b2-7dc6c26872ce"
   },
   "outputs": [
    {
     "data": {
      "text/html": [
       "\n",
       "  <div id=\"df-6f272ac8-72b4-4510-8531-8a27b03dd163\">\n",
       "    <div class=\"colab-df-container\">\n",
       "      <div>\n",
       "<style scoped>\n",
       "    .dataframe tbody tr th:only-of-type {\n",
       "        vertical-align: middle;\n",
       "    }\n",
       "\n",
       "    .dataframe tbody tr th {\n",
       "        vertical-align: top;\n",
       "    }\n",
       "\n",
       "    .dataframe thead th {\n",
       "        text-align: right;\n",
       "    }\n",
       "</style>\n",
       "<table border=\"1\" class=\"dataframe\">\n",
       "  <thead>\n",
       "    <tr style=\"text-align: right;\">\n",
       "      <th></th>\n",
       "      <th>OBJECTID_2</th>\n",
       "      <th>OBJECTID_3</th>\n",
       "      <th>OBJECTID</th>\n",
       "      <th>Id</th>\n",
       "      <th>gridcode</th>\n",
       "      <th>Vertical_D</th>\n",
       "      <th>Water_Time</th>\n",
       "      <th>Water_Leve</th>\n",
       "      <th>Shape_Leng</th>\n",
       "      <th>Station_ID</th>\n",
       "      <th>Shape_Le_1</th>\n",
       "      <th>Shape_Le_2</th>\n",
       "      <th>Shape_Area</th>\n",
       "      <th>geometry</th>\n",
       "    </tr>\n",
       "  </thead>\n",
       "  <tbody>\n",
       "    <tr>\n",
       "      <th>0</th>\n",
       "      <td>1</td>\n",
       "      <td>71</td>\n",
       "      <td>73</td>\n",
       "      <td>1</td>\n",
       "      <td>1</td>\n",
       "      <td>CGVD2013</td>\n",
       "      <td>7700</td>\n",
       "      <td>7.7</td>\n",
       "      <td>4.0</td>\n",
       "      <td>130492.1</td>\n",
       "      <td>4.0</td>\n",
       "      <td>4.0</td>\n",
       "      <td>1.0</td>\n",
       "      <td>POLYGON ((2489393.000 7441437.000, 2489393.000...</td>\n",
       "    </tr>\n",
       "    <tr>\n",
       "      <th>1</th>\n",
       "      <td>2</td>\n",
       "      <td>72</td>\n",
       "      <td>74</td>\n",
       "      <td>3</td>\n",
       "      <td>1</td>\n",
       "      <td>CGVD2013</td>\n",
       "      <td>7700</td>\n",
       "      <td>7.7</td>\n",
       "      <td>8.0</td>\n",
       "      <td>130492.1</td>\n",
       "      <td>8.0</td>\n",
       "      <td>8.0</td>\n",
       "      <td>3.0</td>\n",
       "      <td>POLYGON ((2489337.000 7441420.000, 2489336.000...</td>\n",
       "    </tr>\n",
       "    <tr>\n",
       "      <th>2</th>\n",
       "      <td>3</td>\n",
       "      <td>73</td>\n",
       "      <td>75</td>\n",
       "      <td>4</td>\n",
       "      <td>1</td>\n",
       "      <td>CGVD2013</td>\n",
       "      <td>7700</td>\n",
       "      <td>7.7</td>\n",
       "      <td>8.0</td>\n",
       "      <td>130492.1</td>\n",
       "      <td>8.0</td>\n",
       "      <td>8.0</td>\n",
       "      <td>3.0</td>\n",
       "      <td>POLYGON ((2489333.000 7441416.000, 2489332.000...</td>\n",
       "    </tr>\n",
       "    <tr>\n",
       "      <th>3</th>\n",
       "      <td>4</td>\n",
       "      <td>74</td>\n",
       "      <td>76</td>\n",
       "      <td>5</td>\n",
       "      <td>1</td>\n",
       "      <td>CGVD2013</td>\n",
       "      <td>7700</td>\n",
       "      <td>7.7</td>\n",
       "      <td>14.0</td>\n",
       "      <td>130492.1</td>\n",
       "      <td>14.0</td>\n",
       "      <td>14.0</td>\n",
       "      <td>8.0</td>\n",
       "      <td>POLYGON ((2489399.000 7441409.000, 2489398.000...</td>\n",
       "    </tr>\n",
       "    <tr>\n",
       "      <th>4</th>\n",
       "      <td>5</td>\n",
       "      <td>75</td>\n",
       "      <td>77</td>\n",
       "      <td>6</td>\n",
       "      <td>1</td>\n",
       "      <td>CGVD2013</td>\n",
       "      <td>7700</td>\n",
       "      <td>7.7</td>\n",
       "      <td>4.0</td>\n",
       "      <td>130492.1</td>\n",
       "      <td>4.0</td>\n",
       "      <td>4.0</td>\n",
       "      <td>1.0</td>\n",
       "      <td>POLYGON ((2489402.000 7441408.000, 2489401.000...</td>\n",
       "    </tr>\n",
       "  </tbody>\n",
       "</table>\n",
       "</div>\n",
       "      <button class=\"colab-df-convert\" onclick=\"convertToInteractive('df-6f272ac8-72b4-4510-8531-8a27b03dd163')\"\n",
       "              title=\"Convert this dataframe to an interactive table.\"\n",
       "              style=\"display:none;\">\n",
       "        \n",
       "  <svg xmlns=\"http://www.w3.org/2000/svg\" height=\"24px\"viewBox=\"0 0 24 24\"\n",
       "       width=\"24px\">\n",
       "    <path d=\"M0 0h24v24H0V0z\" fill=\"none\"/>\n",
       "    <path d=\"M18.56 5.44l.94 2.06.94-2.06 2.06-.94-2.06-.94-.94-2.06-.94 2.06-2.06.94zm-11 1L8.5 8.5l.94-2.06 2.06-.94-2.06-.94L8.5 2.5l-.94 2.06-2.06.94zm10 10l.94 2.06.94-2.06 2.06-.94-2.06-.94-.94-2.06-.94 2.06-2.06.94z\"/><path d=\"M17.41 7.96l-1.37-1.37c-.4-.4-.92-.59-1.43-.59-.52 0-1.04.2-1.43.59L10.3 9.45l-7.72 7.72c-.78.78-.78 2.05 0 2.83L4 21.41c.39.39.9.59 1.41.59.51 0 1.02-.2 1.41-.59l7.78-7.78 2.81-2.81c.8-.78.8-2.07 0-2.86zM5.41 20L4 18.59l7.72-7.72 1.47 1.35L5.41 20z\"/>\n",
       "  </svg>\n",
       "      </button>\n",
       "      \n",
       "  <style>\n",
       "    .colab-df-container {\n",
       "      display:flex;\n",
       "      flex-wrap:wrap;\n",
       "      gap: 12px;\n",
       "    }\n",
       "\n",
       "    .colab-df-convert {\n",
       "      background-color: #E8F0FE;\n",
       "      border: none;\n",
       "      border-radius: 50%;\n",
       "      cursor: pointer;\n",
       "      display: none;\n",
       "      fill: #1967D2;\n",
       "      height: 32px;\n",
       "      padding: 0 0 0 0;\n",
       "      width: 32px;\n",
       "    }\n",
       "\n",
       "    .colab-df-convert:hover {\n",
       "      background-color: #E2EBFA;\n",
       "      box-shadow: 0px 1px 2px rgba(60, 64, 67, 0.3), 0px 1px 3px 1px rgba(60, 64, 67, 0.15);\n",
       "      fill: #174EA6;\n",
       "    }\n",
       "\n",
       "    [theme=dark] .colab-df-convert {\n",
       "      background-color: #3B4455;\n",
       "      fill: #D2E3FC;\n",
       "    }\n",
       "\n",
       "    [theme=dark] .colab-df-convert:hover {\n",
       "      background-color: #434B5C;\n",
       "      box-shadow: 0px 1px 3px 1px rgba(0, 0, 0, 0.15);\n",
       "      filter: drop-shadow(0px 1px 2px rgba(0, 0, 0, 0.3));\n",
       "      fill: #FFFFFF;\n",
       "    }\n",
       "  </style>\n",
       "\n",
       "      <script>\n",
       "        const buttonEl =\n",
       "          document.querySelector('#df-6f272ac8-72b4-4510-8531-8a27b03dd163 button.colab-df-convert');\n",
       "        buttonEl.style.display =\n",
       "          google.colab.kernel.accessAllowed ? 'block' : 'none';\n",
       "\n",
       "        async function convertToInteractive(key) {\n",
       "          const element = document.querySelector('#df-6f272ac8-72b4-4510-8531-8a27b03dd163');\n",
       "          const dataTable =\n",
       "            await google.colab.kernel.invokeFunction('convertToInteractive',\n",
       "                                                     [key], {});\n",
       "          if (!dataTable) return;\n",
       "\n",
       "          const docLinkHtml = 'Like what you see? Visit the ' +\n",
       "            '<a target=\"_blank\" href=https://colab.research.google.com/notebooks/data_table.ipynb>data table notebook</a>'\n",
       "            + ' to learn more about interactive tables.';\n",
       "          element.innerHTML = '';\n",
       "          dataTable['output_type'] = 'display_data';\n",
       "          await google.colab.output.renderOutput(dataTable, element);\n",
       "          const docLink = document.createElement('div');\n",
       "          docLink.innerHTML = docLinkHtml;\n",
       "          element.appendChild(docLink);\n",
       "        }\n",
       "      </script>\n",
       "    </div>\n",
       "  </div>\n",
       "  "
      ],
      "text/plain": [
       "   OBJECTID_2  OBJECTID_3  OBJECTID  Id  gridcode Vertical_D  Water_Time  \\\n",
       "0           1          71        73   1         1   CGVD2013        7700   \n",
       "1           2          72        74   3         1   CGVD2013        7700   \n",
       "2           3          73        75   4         1   CGVD2013        7700   \n",
       "3           4          74        76   5         1   CGVD2013        7700   \n",
       "4           5          75        77   6         1   CGVD2013        7700   \n",
       "\n",
       "   Water_Leve  Shape_Leng Station_ID  Shape_Le_1  Shape_Le_2  Shape_Area  \\\n",
       "0         7.7         4.0   130492.1         4.0         4.0         1.0   \n",
       "1         7.7         8.0   130492.1         8.0         8.0         3.0   \n",
       "2         7.7         8.0   130492.1         8.0         8.0         3.0   \n",
       "3         7.7        14.0   130492.1        14.0        14.0         8.0   \n",
       "4         7.7         4.0   130492.1         4.0         4.0         1.0   \n",
       "\n",
       "                                            geometry  \n",
       "0  POLYGON ((2489393.000 7441437.000, 2489393.000...  \n",
       "1  POLYGON ((2489337.000 7441420.000, 2489336.000...  \n",
       "2  POLYGON ((2489333.000 7441416.000, 2489332.000...  \n",
       "3  POLYGON ((2489399.000 7441409.000, 2489398.000...  \n",
       "4  POLYGON ((2489402.000 7441408.000, 2489401.000...  "
      ]
     },
     "execution_count": 129,
     "metadata": {},
     "output_type": "execute_result"
    }
   ],
   "source": [
    "# To find out the column name. We can also use .columns() as an alternative.\n",
    "fle.head()"
   ]
  },
  {
   "cell_type": "code",
   "execution_count": null,
   "metadata": {
    "colab": {
     "base_uri": "https://localhost:8080/"
    },
    "executionInfo": {
     "elapsed": 155,
     "status": "ok",
     "timestamp": 1676399997194,
     "user": {
      "displayName": "Sonal J",
      "userId": "09986047581759812294"
     },
     "user_tz": 240
    },
    "id": "9CY1hZBxR0G1",
    "outputId": "20f018aa-41b3-44c0-fadb-77e602f2db93"
   },
   "outputs": [
    {
     "data": {
      "text/plain": [
       "10.7"
      ]
     },
     "execution_count": 130,
     "metadata": {},
     "output_type": "execute_result"
    }
   ],
   "source": [
    "# This method will query the column and return the maximum value.\n",
    "fle['Water_Leve'].max()"
   ]
  },
  {
   "cell_type": "markdown",
   "metadata": {
    "id": "a6W9fnskQgSl"
   },
   "source": [
    "####3. In the FloodExtent file, what is the maximum water level recorded in Sunbury County (geonb_county)?"
   ]
  },
  {
   "cell_type": "markdown",
   "metadata": {
    "id": "N6g2wgXcsBfa"
   },
   "source": [
    "> We will check the crs of both files and then convert it (if required). \n"
   ]
  },
  {
   "cell_type": "code",
   "execution_count": null,
   "metadata": {
    "colab": {
     "base_uri": "https://localhost:8080/"
    },
    "executionInfo": {
     "elapsed": 216,
     "status": "ok",
     "timestamp": 1676399999502,
     "user": {
      "displayName": "Sonal J",
      "userId": "09986047581759812294"
     },
     "user_tz": 240
    },
    "id": "aArtfxzOp8u4",
    "outputId": "60fbcb4f-0304-4c7c-9069-8a017a2ae15b"
   },
   "outputs": [
    {
     "data": {
      "text/plain": [
       "<Compound CRS: COMPD_CS[\"NAD83(CSRS) / New Brunswick Stereographi ...>\n",
       "Name: NAD83(CSRS) / New Brunswick Stereographic + CGVD2013(CGG2013) height\n",
       "Axis Info [cartesian|vertical]:\n",
       "- [north]: Northing (metre)\n",
       "- [east]: Easting (metre)\n",
       "- [up]: Gravity-related height (metre)\n",
       "Area of Use:\n",
       "- undefined\n",
       "Datum: NAD83 Canadian Spatial Reference System\n",
       "- Ellipsoid: GRS 1980\n",
       "- Prime Meridian: Greenwich\n",
       "Sub CRS:\n",
       "- NAD83(CSRS) / New Brunswick Stereographic\n",
       "- CGVD2013(CGG2013) height"
      ]
     },
     "execution_count": 131,
     "metadata": {},
     "output_type": "execute_result"
    }
   ],
   "source": [
    "# Returns the CRS\n",
    "fle.crs"
   ]
  },
  {
   "cell_type": "code",
   "execution_count": null,
   "metadata": {
    "id": "FHgphaDdQt8I"
   },
   "outputs": [],
   "source": [
    "# Converting the fle CRS to EPSG:2953 which matches the county CRS\n",
    "fle_2953 = fle.to_crs('EPSG:2953')"
   ]
  },
  {
   "cell_type": "markdown",
   "metadata": {
    "id": "Xo7x98OTsurx"
   },
   "source": [
    "> .within() operation filters the data to only include features in Sunbury County using the iloc which uses the row from county gdf. To get the maximum water level. max() method is used "
   ]
  },
  {
   "cell_type": "code",
   "execution_count": null,
   "metadata": {
    "id": "njPZKkgoqnx7"
   },
   "outputs": [],
   "source": [
    "# Sunbury county is row 1\n",
    "result = fle_2953[fle_2953.within(county.geometry.iloc[1])]"
   ]
  },
  {
   "cell_type": "code",
   "execution_count": null,
   "metadata": {
    "colab": {
     "base_uri": "https://localhost:8080/"
    },
    "executionInfo": {
     "elapsed": 4,
     "status": "ok",
     "timestamp": 1676400003035,
     "user": {
      "displayName": "Sonal J",
      "userId": "09986047581759812294"
     },
     "user_tz": 240
    },
    "id": "3Y41kPSBTulZ",
    "outputId": "e95dc7ae-4f1b-41bc-b647-c4b5a974a742"
   },
   "outputs": [
    {
     "data": {
      "text/plain": [
       "7.3"
      ]
     },
     "execution_count": 134,
     "metadata": {},
     "output_type": "execute_result"
    }
   ],
   "source": [
    "# Returns the maximum water level\n",
    "result[\"Water_Leve\"].max()"
   ]
  },
  {
   "cell_type": "markdown",
   "metadata": {
    "id": "hYiBd4E7QkuM"
   },
   "source": [
    "####4. What is the total Length of Roads in Sunbury and York counties (in kilometres, rounded to 2 decimals)?"
   ]
  },
  {
   "cell_type": "markdown",
   "metadata": {
    "id": "81JMEiMQwHfS"
   },
   "source": [
    "> Read the file and then we will group by county to use it for caculations"
   ]
  },
  {
   "cell_type": "code",
   "execution_count": null,
   "metadata": {
    "id": "uqfw1CKe5037"
   },
   "outputs": [],
   "source": [
    "# Reading the file into a gdf\n",
    "roads = gpd.read_file('/content/drive/MyDrive/Colab Notebooks/data/geonb_roads_SunburyYork.shp')\n",
    "\n",
    "# Grouping it by county\n",
    "by_county = roads.groupby(\"COUNTY\")"
   ]
  },
  {
   "cell_type": "code",
   "execution_count": null,
   "metadata": {
    "id": "4zjKXbUDc3-V"
   },
   "outputs": [],
   "source": [
    "#Calculate total length of roads in Sunbury and York counties\n",
    "sunbury_length = by_county.get_group(\"Sunbury\")[\"geometry\"].length.sum()/1000\n",
    "york_length = by_county.get_group(\"York\")[\"geometry\"].length.sum()/1000"
   ]
  },
  {
   "cell_type": "markdown",
   "metadata": {
    "id": "OqfYfxhWwjcR"
   },
   "source": [
    "> Rounding the values to 2 decimals"
   ]
  },
  {
   "cell_type": "code",
   "execution_count": null,
   "metadata": {
    "colab": {
     "base_uri": "https://localhost:8080/"
    },
    "executionInfo": {
     "elapsed": 24,
     "status": "ok",
     "timestamp": 1676400013297,
     "user": {
      "displayName": "Sonal J",
      "userId": "09986047581759812294"
     },
     "user_tz": 240
    },
    "id": "D_sa4FqseV5A",
    "outputId": "11a06c21-7db1-4687-b1bb-a76cea2b0838"
   },
   "outputs": [
    {
     "data": {
      "text/plain": [
       "1103.08"
      ]
     },
     "execution_count": 137,
     "metadata": {},
     "output_type": "execute_result"
    }
   ],
   "source": [
    "# Rounded to 2 decimals for Sunbury county\n",
    "round(sunbury_length,2)"
   ]
  },
  {
   "cell_type": "code",
   "execution_count": null,
   "metadata": {
    "colab": {
     "base_uri": "https://localhost:8080/"
    },
    "executionInfo": {
     "elapsed": 22,
     "status": "ok",
     "timestamp": 1676400013297,
     "user": {
      "displayName": "Sonal J",
      "userId": "09986047581759812294"
     },
     "user_tz": 240
    },
    "id": "LDdw9VHG50-p",
    "outputId": "a6761b7b-23e6-4971-a36b-b2460f904b71"
   },
   "outputs": [
    {
     "data": {
      "text/plain": [
       "3045.49"
      ]
     },
     "execution_count": 138,
     "metadata": {},
     "output_type": "execute_result"
    }
   ],
   "source": [
    "# Rounded to 2 decimals for York county\n",
    "round(york_length,2)"
   ]
  },
  {
   "cell_type": "code",
   "execution_count": null,
   "metadata": {
    "colab": {
     "base_uri": "https://localhost:8080/"
    },
    "executionInfo": {
     "elapsed": 20,
     "status": "ok",
     "timestamp": 1676400013297,
     "user": {
      "displayName": "Sonal J",
      "userId": "09986047581759812294"
     },
     "user_tz": 240
    },
    "id": "lI4B7kq-dCDe",
    "outputId": "2e6acb98-ec0c-4638-8461-87845588d283"
   },
   "outputs": [
    {
     "data": {
      "text/plain": [
       "4148.57"
      ]
     },
     "execution_count": 139,
     "metadata": {},
     "output_type": "execute_result"
    }
   ],
   "source": [
    "# Total length of roads for both counties and rounded to 2 decimals\n",
    "round(sunbury_length + york_length,2)"
   ]
  },
  {
   "cell_type": "markdown",
   "metadata": {
    "id": "VgX_I0HHexII"
   },
   "source": [
    "####5. Select all the roads from GeoNB Roads_SunburyYork which have a Street name of “Waterloo Row”.\n",
    "\n",
    "\n"
   ]
  },
  {
   "cell_type": "markdown",
   "metadata": {
    "id": "CmCQHDrqyMgC"
   },
   "source": [
    "##### a. Print how many roads are selected."
   ]
  },
  {
   "cell_type": "markdown",
   "metadata": {
    "id": "CVozwyUnEkei"
   },
   "source": [
    "> Firstly, we will select all the roads & convert it to lower case to avoid missing any road with different case."
   ]
  },
  {
   "cell_type": "code",
   "execution_count": null,
   "metadata": {
    "id": "xRkm-RZD51BU"
   },
   "outputs": [],
   "source": [
    "# Filter the selected road 'waterloo row'\n",
    "selected_roads = roads[roads['STREETNAME'].str.lower() == 'waterloo row']"
   ]
  },
  {
   "cell_type": "code",
   "execution_count": null,
   "metadata": {
    "colab": {
     "base_uri": "https://localhost:8080/"
    },
    "executionInfo": {
     "elapsed": 19,
     "status": "ok",
     "timestamp": 1676400013298,
     "user": {
      "displayName": "Sonal J",
      "userId": "09986047581759812294"
     },
     "user_tz": 240
    },
    "id": "k3C0GXGtElKg",
    "outputId": "e4fcf31d-5687-459b-ccf2-3ae9c5301a20"
   },
   "outputs": [
    {
     "data": {
      "text/plain": [
       "16"
      ]
     },
     "execution_count": 141,
     "metadata": {},
     "output_type": "execute_result"
    }
   ],
   "source": [
    "# Returns the number of selected roads\n",
    "len(selected_roads)"
   ]
  },
  {
   "cell_type": "markdown",
   "metadata": {
    "id": "WzdS9Wb3yLCC"
   },
   "source": [
    "##### b. Dissolve all roads with the name Waterloo Row into 1 feature."
   ]
  },
  {
   "cell_type": "markdown",
   "metadata": {
    "id": "L7ZVudkZFY5s"
   },
   "source": [
    "> We will use .dissolve method on selected_roads which has data of 'waterloo row' to dissolve it into one feature."
   ]
  },
  {
   "cell_type": "code",
   "execution_count": null,
   "metadata": {
    "id": "cmpI0z5P51Da"
   },
   "outputs": [],
   "source": [
    "# STREETNAME is the column used for dissolving\n",
    "dissolved = selected_roads.dissolve(by='STREETNAME')"
   ]
  },
  {
   "cell_type": "code",
   "execution_count": null,
   "metadata": {
    "colab": {
     "base_uri": "https://localhost:8080/",
     "height": 211
    },
    "executionInfo": {
     "elapsed": 5,
     "status": "ok",
     "timestamp": 1676400013511,
     "user": {
      "displayName": "Sonal J",
      "userId": "09986047581759812294"
     },
     "user_tz": 240
    },
    "id": "cs_SE2Ei51F7",
    "outputId": "fcf37211-c2f8-461c-a9ff-7df7b38f5065"
   },
   "outputs": [
    {
     "data": {
      "text/html": [
       "\n",
       "  <div id=\"df-a4b31d4a-9f3e-429d-836d-380adc08f9b2\">\n",
       "    <div class=\"colab-df-container\">\n",
       "      <div>\n",
       "<style scoped>\n",
       "    .dataframe tbody tr th:only-of-type {\n",
       "        vertical-align: middle;\n",
       "    }\n",
       "\n",
       "    .dataframe tbody tr th {\n",
       "        vertical-align: top;\n",
       "    }\n",
       "\n",
       "    .dataframe thead th {\n",
       "        text-align: right;\n",
       "    }\n",
       "</style>\n",
       "<table border=\"1\" class=\"dataframe\">\n",
       "  <thead>\n",
       "    <tr style=\"text-align: right;\">\n",
       "      <th></th>\n",
       "      <th>geometry</th>\n",
       "      <th>NID</th>\n",
       "      <th>ROADSEGID</th>\n",
       "      <th>ST_TYPE</th>\n",
       "      <th>TYPE_POSI</th>\n",
       "      <th>PREFIX</th>\n",
       "      <th>SUFFIX</th>\n",
       "      <th>NBRLANES</th>\n",
       "      <th>RTENAME1EN</th>\n",
       "      <th>RTENAME2EN</th>\n",
       "      <th>RTENAME1FR</th>\n",
       "      <th>RTENAME2FR</th>\n",
       "      <th>RTNUMBER1</th>\n",
       "      <th>RTNUMBER2</th>\n",
       "      <th>STRUNAMEEN</th>\n",
       "      <th>STRUNAMEFR</th>\n",
       "      <th>STRUCTTYPE</th>\n",
       "      <th>EXITNBR</th>\n",
       "      <th>SPEED_L</th>\n",
       "      <th>SPEED_R</th>\n",
       "      <th>SPEED</th>\n",
       "      <th>SPEED_SR</th>\n",
       "      <th>ROADCLASS</th>\n",
       "      <th>PAVSTATUS</th>\n",
       "      <th>PAVSURF</th>\n",
       "      <th>UNPAVSURF</th>\n",
       "      <th>TRAFFICDIR</th>\n",
       "      <th>CLOSING</th>\n",
       "      <th>L_HNUMSTR</th>\n",
       "      <th>R_HNUMSTR</th>\n",
       "      <th>L_HNUMF</th>\n",
       "      <th>L_HNUML</th>\n",
       "      <th>R_HNUMF</th>\n",
       "      <th>R_HNUML</th>\n",
       "      <th>PLACE_NAME</th>\n",
       "      <th>COUNTY</th>\n",
       "    </tr>\n",
       "    <tr>\n",
       "      <th>STREETNAME</th>\n",
       "      <th></th>\n",
       "      <th></th>\n",
       "      <th></th>\n",
       "      <th></th>\n",
       "      <th></th>\n",
       "      <th></th>\n",
       "      <th></th>\n",
       "      <th></th>\n",
       "      <th></th>\n",
       "      <th></th>\n",
       "      <th></th>\n",
       "      <th></th>\n",
       "      <th></th>\n",
       "      <th></th>\n",
       "      <th></th>\n",
       "      <th></th>\n",
       "      <th></th>\n",
       "      <th></th>\n",
       "      <th></th>\n",
       "      <th></th>\n",
       "      <th></th>\n",
       "      <th></th>\n",
       "      <th></th>\n",
       "      <th></th>\n",
       "      <th></th>\n",
       "      <th></th>\n",
       "      <th></th>\n",
       "      <th></th>\n",
       "      <th></th>\n",
       "      <th></th>\n",
       "      <th></th>\n",
       "      <th></th>\n",
       "      <th></th>\n",
       "      <th></th>\n",
       "      <th></th>\n",
       "      <th></th>\n",
       "    </tr>\n",
       "  </thead>\n",
       "  <tbody>\n",
       "    <tr>\n",
       "      <th>WATERLOO Row</th>\n",
       "      <td>MULTILINESTRING ((2489498.504 7438457.000, 248...</td>\n",
       "      <td>56FA442F6D624B78A63E3B1EE3BE4D3F</td>\n",
       "      <td>11045501</td>\n",
       "      <td>Row</td>\n",
       "      <td>S</td>\n",
       "      <td>None</td>\n",
       "      <td>None</td>\n",
       "      <td>1</td>\n",
       "      <td>None</td>\n",
       "      <td>None</td>\n",
       "      <td>None</td>\n",
       "      <td>None</td>\n",
       "      <td>None</td>\n",
       "      <td>None</td>\n",
       "      <td>None</td>\n",
       "      <td>None</td>\n",
       "      <td>None</td>\n",
       "      <td>None</td>\n",
       "      <td>-1</td>\n",
       "      <td>-1</td>\n",
       "      <td>50</td>\n",
       "      <td>NBDTI Sign Data</td>\n",
       "      <td>NBDOT Local Named</td>\n",
       "      <td>Paved</td>\n",
       "      <td>Flexible</td>\n",
       "      <td>None</td>\n",
       "      <td>Same Direction</td>\n",
       "      <td>Unknown</td>\n",
       "      <td>None</td>\n",
       "      <td>None</td>\n",
       "      <td>0</td>\n",
       "      <td>0</td>\n",
       "      <td>0</td>\n",
       "      <td>0</td>\n",
       "      <td>Fredericton</td>\n",
       "      <td>York</td>\n",
       "    </tr>\n",
       "  </tbody>\n",
       "</table>\n",
       "</div>\n",
       "      <button class=\"colab-df-convert\" onclick=\"convertToInteractive('df-a4b31d4a-9f3e-429d-836d-380adc08f9b2')\"\n",
       "              title=\"Convert this dataframe to an interactive table.\"\n",
       "              style=\"display:none;\">\n",
       "        \n",
       "  <svg xmlns=\"http://www.w3.org/2000/svg\" height=\"24px\"viewBox=\"0 0 24 24\"\n",
       "       width=\"24px\">\n",
       "    <path d=\"M0 0h24v24H0V0z\" fill=\"none\"/>\n",
       "    <path d=\"M18.56 5.44l.94 2.06.94-2.06 2.06-.94-2.06-.94-.94-2.06-.94 2.06-2.06.94zm-11 1L8.5 8.5l.94-2.06 2.06-.94-2.06-.94L8.5 2.5l-.94 2.06-2.06.94zm10 10l.94 2.06.94-2.06 2.06-.94-2.06-.94-.94-2.06-.94 2.06-2.06.94z\"/><path d=\"M17.41 7.96l-1.37-1.37c-.4-.4-.92-.59-1.43-.59-.52 0-1.04.2-1.43.59L10.3 9.45l-7.72 7.72c-.78.78-.78 2.05 0 2.83L4 21.41c.39.39.9.59 1.41.59.51 0 1.02-.2 1.41-.59l7.78-7.78 2.81-2.81c.8-.78.8-2.07 0-2.86zM5.41 20L4 18.59l7.72-7.72 1.47 1.35L5.41 20z\"/>\n",
       "  </svg>\n",
       "      </button>\n",
       "      \n",
       "  <style>\n",
       "    .colab-df-container {\n",
       "      display:flex;\n",
       "      flex-wrap:wrap;\n",
       "      gap: 12px;\n",
       "    }\n",
       "\n",
       "    .colab-df-convert {\n",
       "      background-color: #E8F0FE;\n",
       "      border: none;\n",
       "      border-radius: 50%;\n",
       "      cursor: pointer;\n",
       "      display: none;\n",
       "      fill: #1967D2;\n",
       "      height: 32px;\n",
       "      padding: 0 0 0 0;\n",
       "      width: 32px;\n",
       "    }\n",
       "\n",
       "    .colab-df-convert:hover {\n",
       "      background-color: #E2EBFA;\n",
       "      box-shadow: 0px 1px 2px rgba(60, 64, 67, 0.3), 0px 1px 3px 1px rgba(60, 64, 67, 0.15);\n",
       "      fill: #174EA6;\n",
       "    }\n",
       "\n",
       "    [theme=dark] .colab-df-convert {\n",
       "      background-color: #3B4455;\n",
       "      fill: #D2E3FC;\n",
       "    }\n",
       "\n",
       "    [theme=dark] .colab-df-convert:hover {\n",
       "      background-color: #434B5C;\n",
       "      box-shadow: 0px 1px 3px 1px rgba(0, 0, 0, 0.15);\n",
       "      filter: drop-shadow(0px 1px 2px rgba(0, 0, 0, 0.3));\n",
       "      fill: #FFFFFF;\n",
       "    }\n",
       "  </style>\n",
       "\n",
       "      <script>\n",
       "        const buttonEl =\n",
       "          document.querySelector('#df-a4b31d4a-9f3e-429d-836d-380adc08f9b2 button.colab-df-convert');\n",
       "        buttonEl.style.display =\n",
       "          google.colab.kernel.accessAllowed ? 'block' : 'none';\n",
       "\n",
       "        async function convertToInteractive(key) {\n",
       "          const element = document.querySelector('#df-a4b31d4a-9f3e-429d-836d-380adc08f9b2');\n",
       "          const dataTable =\n",
       "            await google.colab.kernel.invokeFunction('convertToInteractive',\n",
       "                                                     [key], {});\n",
       "          if (!dataTable) return;\n",
       "\n",
       "          const docLinkHtml = 'Like what you see? Visit the ' +\n",
       "            '<a target=\"_blank\" href=https://colab.research.google.com/notebooks/data_table.ipynb>data table notebook</a>'\n",
       "            + ' to learn more about interactive tables.';\n",
       "          element.innerHTML = '';\n",
       "          dataTable['output_type'] = 'display_data';\n",
       "          await google.colab.output.renderOutput(dataTable, element);\n",
       "          const docLink = document.createElement('div');\n",
       "          docLink.innerHTML = docLinkHtml;\n",
       "          element.appendChild(docLink);\n",
       "        }\n",
       "      </script>\n",
       "    </div>\n",
       "  </div>\n",
       "  "
      ],
      "text/plain": [
       "                                                       geometry  \\\n",
       "STREETNAME                                                        \n",
       "WATERLOO Row  MULTILINESTRING ((2489498.504 7438457.000, 248...   \n",
       "\n",
       "                                           NID  ROADSEGID ST_TYPE TYPE_POSI  \\\n",
       "STREETNAME                                                                    \n",
       "WATERLOO Row  56FA442F6D624B78A63E3B1EE3BE4D3F   11045501     Row         S   \n",
       "\n",
       "             PREFIX SUFFIX  NBRLANES RTENAME1EN RTENAME2EN RTENAME1FR  \\\n",
       "STREETNAME                                                              \n",
       "WATERLOO Row   None   None         1       None       None       None   \n",
       "\n",
       "             RTENAME2FR RTNUMBER1 RTNUMBER2 STRUNAMEEN STRUNAMEFR STRUCTTYPE  \\\n",
       "STREETNAME                                                                     \n",
       "WATERLOO Row       None      None      None       None       None       None   \n",
       "\n",
       "             EXITNBR  SPEED_L  SPEED_R  SPEED         SPEED_SR  \\\n",
       "STREETNAME                                                       \n",
       "WATERLOO Row    None       -1       -1     50  NBDTI Sign Data   \n",
       "\n",
       "                      ROADCLASS PAVSTATUS   PAVSURF UNPAVSURF      TRAFFICDIR  \\\n",
       "STREETNAME                                                                      \n",
       "WATERLOO Row  NBDOT Local Named     Paved  Flexible      None  Same Direction   \n",
       "\n",
       "              CLOSING L_HNUMSTR R_HNUMSTR L_HNUMF L_HNUML R_HNUMF R_HNUML  \\\n",
       "STREETNAME                                                                  \n",
       "WATERLOO Row  Unknown      None      None       0       0       0       0   \n",
       "\n",
       "               PLACE_NAME COUNTY  \n",
       "STREETNAME                        \n",
       "WATERLOO Row  Fredericton   York  "
      ]
     },
     "execution_count": 143,
     "metadata": {},
     "output_type": "execute_result"
    }
   ],
   "source": [
    "# Returns the output data in as one row\n",
    "dissolved.head()"
   ]
  },
  {
   "cell_type": "markdown",
   "metadata": {
    "id": "qyPFVfRwF5lr"
   },
   "source": [
    "##### c. Write the dissolved roads to a GeoJSON file"
   ]
  },
  {
   "cell_type": "markdown",
   "metadata": {
    "id": "OXF7h_GuGBEv"
   },
   "source": [
    "> Writing to a GeoJSON file using .tofile method"
   ]
  },
  {
   "cell_type": "code",
   "execution_count": null,
   "metadata": {
    "id": "N_6-jTVS51IU"
   },
   "outputs": [],
   "source": [
    "# Driver defines the type of file.\n",
    "dissolved.to_file('/content/drive/MyDrive/Colab Notebooks/waterloo_row.geojson', driver='GeoJSON')"
   ]
  },
  {
   "cell_type": "markdown",
   "metadata": {
    "id": "AAhoAu-YGjJz"
   },
   "source": [
    "> Firstly we will import the required packages and modules."
   ]
  },
  {
   "cell_type": "markdown",
   "metadata": {
    "id": "-b76VKhcYDV6"
   },
   "source": [
    "## **Part B. Create data and buffer**\n",
    "\n",
    "---\n",
    "\n"
   ]
  },
  {
   "cell_type": "code",
   "execution_count": null,
   "metadata": {
    "id": "XcZzJHKa51Nv"
   },
   "outputs": [],
   "source": [
    "# Importing Point from shapely.geometry to reduce memory consumption\n",
    "from shapely.geometry import Point"
   ]
  },
  {
   "cell_type": "markdown",
   "metadata": {
    "id": "MC1CWvLdGz3O"
   },
   "source": [
    "#### 6. Create a Point Feature at Fredericton International Airport: 45.87286, -66.52982 (EPSG:4326)"
   ]
  },
  {
   "cell_type": "code",
   "execution_count": null,
   "metadata": {
    "id": "vIhamFb851PX"
   },
   "outputs": [],
   "source": [
    "# Creates a Point for Fredericton International Airport.\n",
    "coords = Point(-66.52982, 45.87286)"
   ]
  },
  {
   "cell_type": "code",
   "execution_count": null,
   "metadata": {
    "id": "s2SyOU0v51RK"
   },
   "outputs": [],
   "source": [
    "# Assigns the CRS EPSG:4326\n",
    "airport = gpd.GeoDataFrame(geometry=[coords], crs='EPSG:4326')"
   ]
  },
  {
   "cell_type": "code",
   "execution_count": null,
   "metadata": {
    "colab": {
     "base_uri": "https://localhost:8080/"
    },
    "executionInfo": {
     "elapsed": 2,
     "status": "ok",
     "timestamp": 1676400028035,
     "user": {
      "displayName": "Sonal J",
      "userId": "09986047581759812294"
     },
     "user_tz": 240
    },
    "id": "9krMzDwAeTdL",
    "outputId": "19dc95ae-4eda-4a6e-d792-472cf9939aa9"
   },
   "outputs": [
    {
     "data": {
      "text/plain": [
       "<Geographic 2D CRS: EPSG:4326>\n",
       "Name: WGS 84\n",
       "Axis Info [ellipsoidal]:\n",
       "- Lat[north]: Geodetic latitude (degree)\n",
       "- Lon[east]: Geodetic longitude (degree)\n",
       "Area of Use:\n",
       "- name: World.\n",
       "- bounds: (-180.0, -90.0, 180.0, 90.0)\n",
       "Datum: World Geodetic System 1984 ensemble\n",
       "- Ellipsoid: WGS 84\n",
       "- Prime Meridian: Greenwich"
      ]
     },
     "execution_count": 160,
     "metadata": {},
     "output_type": "execute_result"
    }
   ],
   "source": [
    "# Lists the CRS info of the airport gdf\n",
    "airport.crs"
   ]
  },
  {
   "cell_type": "markdown",
   "metadata": {
    "id": "TGZy5-R7YyAU"
   },
   "source": [
    "####7. What is the coordinate system used in the GeoNB Roads_SunburyYork file?"
   ]
  },
  {
   "cell_type": "code",
   "execution_count": null,
   "metadata": {
    "colab": {
     "base_uri": "https://localhost:8080/"
    },
    "executionInfo": {
     "elapsed": 147,
     "status": "ok",
     "timestamp": 1676400030338,
     "user": {
      "displayName": "Sonal J",
      "userId": "09986047581759812294"
     },
     "user_tz": 240
    },
    "id": "Utbvt_boeTfT",
    "outputId": "1b38cdba-44af-4515-bfcd-131df8dd2ea8"
   },
   "outputs": [
    {
     "data": {
      "text/plain": [
       "<Derived Projected CRS: EPSG:2953>\n",
       "Name: NAD83(CSRS) / New Brunswick Stereographic\n",
       "Axis Info [cartesian]:\n",
       "- N[north]: Northing (metre)\n",
       "- E[east]: Easting (metre)\n",
       "Area of Use:\n",
       "- name: Canada - New Brunswick.\n",
       "- bounds: (-69.05, 44.56, -63.7, 48.07)\n",
       "Coordinate Operation:\n",
       "- name: New Brunswick Stereographic (NAD83)\n",
       "- method: Oblique Stereographic\n",
       "Datum: NAD83 Canadian Spatial Reference System\n",
       "- Ellipsoid: GRS 1980\n",
       "- Prime Meridian: Greenwich"
      ]
     },
     "execution_count": 161,
     "metadata": {},
     "output_type": "execute_result"
    }
   ],
   "source": [
    "# Returns the CRS information of the GeoNB Roads_SunburyYork.shp file\n",
    "roads.crs"
   ]
  },
  {
   "cell_type": "markdown",
   "metadata": {
    "id": "YzGnqogWdBav"
   },
   "source": [
    "####8. Project the Fredericton International Airport point (created in step 6) to match GeoNB Roads_SunburyYork."
   ]
  },
  {
   "cell_type": "markdown",
   "metadata": {
    "id": "RbiCjFW7Ib49"
   },
   "source": [
    "> To project the airport point, we have to convert it to the CRS of roads gdf"
   ]
  },
  {
   "cell_type": "code",
   "execution_count": null,
   "metadata": {
    "id": "C6Fai6kQeTho"
   },
   "outputs": [],
   "source": [
    "# Reprojecting the airport point to match the CRS of the roads GeoDataFrame\n",
    "airport_new = airport.to_crs(roads.crs)"
   ]
  },
  {
   "cell_type": "code",
   "execution_count": null,
   "metadata": {
    "colab": {
     "base_uri": "https://localhost:8080/",
     "height": 81
    },
    "executionInfo": {
     "elapsed": 7,
     "status": "ok",
     "timestamp": 1676400034311,
     "user": {
      "displayName": "Sonal J",
      "userId": "09986047581759812294"
     },
     "user_tz": 240
    },
    "id": "N7K3ATcaeTj9",
    "outputId": "cdd23ae6-0bf0-4743-cf11-514b0c1872f6"
   },
   "outputs": [
    {
     "data": {
      "text/html": [
       "\n",
       "  <div id=\"df-0aa07306-0765-4a40-8b7a-c1b826ce5037\">\n",
       "    <div class=\"colab-df-container\">\n",
       "      <div>\n",
       "<style scoped>\n",
       "    .dataframe tbody tr th:only-of-type {\n",
       "        vertical-align: middle;\n",
       "    }\n",
       "\n",
       "    .dataframe tbody tr th {\n",
       "        vertical-align: top;\n",
       "    }\n",
       "\n",
       "    .dataframe thead th {\n",
       "        text-align: right;\n",
       "    }\n",
       "</style>\n",
       "<table border=\"1\" class=\"dataframe\">\n",
       "  <thead>\n",
       "    <tr style=\"text-align: right;\">\n",
       "      <th></th>\n",
       "      <th>geometry</th>\n",
       "    </tr>\n",
       "  </thead>\n",
       "  <tbody>\n",
       "    <tr>\n",
       "      <th>0</th>\n",
       "      <td>POINT (2497684.823 7430295.107)</td>\n",
       "    </tr>\n",
       "  </tbody>\n",
       "</table>\n",
       "</div>\n",
       "      <button class=\"colab-df-convert\" onclick=\"convertToInteractive('df-0aa07306-0765-4a40-8b7a-c1b826ce5037')\"\n",
       "              title=\"Convert this dataframe to an interactive table.\"\n",
       "              style=\"display:none;\">\n",
       "        \n",
       "  <svg xmlns=\"http://www.w3.org/2000/svg\" height=\"24px\"viewBox=\"0 0 24 24\"\n",
       "       width=\"24px\">\n",
       "    <path d=\"M0 0h24v24H0V0z\" fill=\"none\"/>\n",
       "    <path d=\"M18.56 5.44l.94 2.06.94-2.06 2.06-.94-2.06-.94-.94-2.06-.94 2.06-2.06.94zm-11 1L8.5 8.5l.94-2.06 2.06-.94-2.06-.94L8.5 2.5l-.94 2.06-2.06.94zm10 10l.94 2.06.94-2.06 2.06-.94-2.06-.94-.94-2.06-.94 2.06-2.06.94z\"/><path d=\"M17.41 7.96l-1.37-1.37c-.4-.4-.92-.59-1.43-.59-.52 0-1.04.2-1.43.59L10.3 9.45l-7.72 7.72c-.78.78-.78 2.05 0 2.83L4 21.41c.39.39.9.59 1.41.59.51 0 1.02-.2 1.41-.59l7.78-7.78 2.81-2.81c.8-.78.8-2.07 0-2.86zM5.41 20L4 18.59l7.72-7.72 1.47 1.35L5.41 20z\"/>\n",
       "  </svg>\n",
       "      </button>\n",
       "      \n",
       "  <style>\n",
       "    .colab-df-container {\n",
       "      display:flex;\n",
       "      flex-wrap:wrap;\n",
       "      gap: 12px;\n",
       "    }\n",
       "\n",
       "    .colab-df-convert {\n",
       "      background-color: #E8F0FE;\n",
       "      border: none;\n",
       "      border-radius: 50%;\n",
       "      cursor: pointer;\n",
       "      display: none;\n",
       "      fill: #1967D2;\n",
       "      height: 32px;\n",
       "      padding: 0 0 0 0;\n",
       "      width: 32px;\n",
       "    }\n",
       "\n",
       "    .colab-df-convert:hover {\n",
       "      background-color: #E2EBFA;\n",
       "      box-shadow: 0px 1px 2px rgba(60, 64, 67, 0.3), 0px 1px 3px 1px rgba(60, 64, 67, 0.15);\n",
       "      fill: #174EA6;\n",
       "    }\n",
       "\n",
       "    [theme=dark] .colab-df-convert {\n",
       "      background-color: #3B4455;\n",
       "      fill: #D2E3FC;\n",
       "    }\n",
       "\n",
       "    [theme=dark] .colab-df-convert:hover {\n",
       "      background-color: #434B5C;\n",
       "      box-shadow: 0px 1px 3px 1px rgba(0, 0, 0, 0.15);\n",
       "      filter: drop-shadow(0px 1px 2px rgba(0, 0, 0, 0.3));\n",
       "      fill: #FFFFFF;\n",
       "    }\n",
       "  </style>\n",
       "\n",
       "      <script>\n",
       "        const buttonEl =\n",
       "          document.querySelector('#df-0aa07306-0765-4a40-8b7a-c1b826ce5037 button.colab-df-convert');\n",
       "        buttonEl.style.display =\n",
       "          google.colab.kernel.accessAllowed ? 'block' : 'none';\n",
       "\n",
       "        async function convertToInteractive(key) {\n",
       "          const element = document.querySelector('#df-0aa07306-0765-4a40-8b7a-c1b826ce5037');\n",
       "          const dataTable =\n",
       "            await google.colab.kernel.invokeFunction('convertToInteractive',\n",
       "                                                     [key], {});\n",
       "          if (!dataTable) return;\n",
       "\n",
       "          const docLinkHtml = 'Like what you see? Visit the ' +\n",
       "            '<a target=\"_blank\" href=https://colab.research.google.com/notebooks/data_table.ipynb>data table notebook</a>'\n",
       "            + ' to learn more about interactive tables.';\n",
       "          element.innerHTML = '';\n",
       "          dataTable['output_type'] = 'display_data';\n",
       "          await google.colab.output.renderOutput(dataTable, element);\n",
       "          const docLink = document.createElement('div');\n",
       "          docLink.innerHTML = docLinkHtml;\n",
       "          element.appendChild(docLink);\n",
       "        }\n",
       "      </script>\n",
       "    </div>\n",
       "  </div>\n",
       "  "
      ],
      "text/plain": [
       "                          geometry\n",
       "0  POINT (2497684.823 7430295.107)"
      ]
     },
     "execution_count": 163,
     "metadata": {},
     "output_type": "execute_result"
    }
   ],
   "source": [
    "# Returns the new gdf with converted CRS which matches the roads gdf\n",
    "airport_new"
   ]
  },
  {
   "cell_type": "markdown",
   "metadata": {
    "id": "OJgUTL19fz7q"
   },
   "source": [
    "#### 9. Create a 5km buffer around the Fredericton International Airport point."
   ]
  },
  {
   "cell_type": "markdown",
   "metadata": {
    "id": "x_EPq0K3JApP"
   },
   "source": [
    "> Creating a buffer of 5 km around the airport_new gdf"
   ]
  },
  {
   "cell_type": "code",
   "execution_count": null,
   "metadata": {
    "id": "Bnwm5_4leToI"
   },
   "outputs": [],
   "source": [
    "# Creates a 5km buffer around the airport point\n",
    "airport_buffer = airport_new.buffer(5000)"
   ]
  },
  {
   "cell_type": "code",
   "execution_count": null,
   "metadata": {
    "colab": {
     "base_uri": "https://localhost:8080/",
     "height": 307
    },
    "executionInfo": {
     "elapsed": 410,
     "status": "ok",
     "timestamp": 1676400038047,
     "user": {
      "displayName": "Sonal J",
      "userId": "09986047581759812294"
     },
     "user_tz": 240
    },
    "id": "jC3NsAORhSPD",
    "outputId": "82783b3a-a258-4eaf-8506-b665dfd5e633"
   },
   "outputs": [
    {
     "data": {
      "text/plain": [
       "<matplotlib.axes._subplots.AxesSubplot at 0x7ff916821c70>"
      ]
     },
     "execution_count": 165,
     "metadata": {},
     "output_type": "execute_result"
    },
    {
     "data": {
      "image/png": "[encoded data removed]",
      "text/plain": [
       "<Figure size 432x288 with 1 Axes>"
      ]
     },
     "metadata": {
      "needs_background": "light"
     },
     "output_type": "display_data"
    }
   ],
   "source": [
    "# Before creation of buffer\n",
    "airport_new.plot()"
   ]
  },
  {
   "cell_type": "code",
   "execution_count": null,
   "metadata": {
    "colab": {
     "base_uri": "https://localhost:8080/",
     "height": 307
    },
    "executionInfo": {
     "elapsed": 8,
     "status": "ok",
     "timestamp": 1676400038047,
     "user": {
      "displayName": "Sonal J",
      "userId": "09986047581759812294"
     },
     "user_tz": 240
    },
    "id": "JH4mC7dYhM5I",
    "outputId": "b1d4709e-e5e4-429f-a513-c9fa34818c6a"
   },
   "outputs": [
    {
     "data": {
      "text/plain": [
       "<matplotlib.axes._subplots.AxesSubplot at 0x7ff914dbb490>"
      ]
     },
     "execution_count": 166,
     "metadata": {},
     "output_type": "execute_result"
    },
    {
     "data": {
      "image/png": "[encoded data removed]",
      "text/plain": [
       "<Figure size 432x288 with 1 Axes>"
      ]
     },
     "metadata": {
      "needs_background": "light"
     },
     "output_type": "display_data"
    }
   ],
   "source": [
    "# After creation of buffer\n",
    "airport_buffer.plot()"
   ]
  },
  {
   "cell_type": "markdown",
   "metadata": {
    "id": "gCGqu5PMenUb"
   },
   "source": [
    "#### 10. Query to find out how many roads intersect this buffer\n",
    "\n",
    "\n",
    "\n",
    "\n",
    "\n",
    "\n",
    "\n"
   ]
  },
  {
   "cell_type": "markdown",
   "metadata": {
    "id": "AxBnMJe1Ji3p"
   },
   "source": [
    "##### a. Print the list of these roads."
   ]
  },
  {
   "cell_type": "markdown",
   "metadata": {
    "id": "anTYmRFxe6Fz"
   },
   "source": [
    "> unary_union operation should be performed on polygon-based geodataframe. It is used to merge or dissolve overlapping polygons into a single polygon. It returns a single polygon object that represents the union of all the input polygons."
   ]
  },
  {
   "cell_type": "code",
   "execution_count": null,
   "metadata": {
    "id": "SF-P8QGeiBEN"
   },
   "outputs": [],
   "source": [
    "# find all roads that intersect the buffer\n",
    "intersections = roads[roads.geometry.intersects(airport_buffer.unary_union)]"
   ]
  },
  {
   "cell_type": "code",
   "execution_count": null,
   "metadata": {
    "colab": {
     "base_uri": "https://localhost:8080/"
    },
    "executionInfo": {
     "elapsed": 4,
     "status": "ok",
     "timestamp": 1676400040617,
     "user": {
      "displayName": "Sonal J",
      "userId": "09986047581759812294"
     },
     "user_tz": 240
    },
    "id": "WXoXB64ZJyF1",
    "outputId": "a6c8c792-c074-4c3c-f16d-5eabd283a2a9"
   },
   "outputs": [
    {
     "data": {
      "text/plain": [
       "640"
      ]
     },
     "execution_count": 168,
     "metadata": {},
     "output_type": "execute_result"
    }
   ],
   "source": [
    "# Prints the number of roads intersecting the buffer\n",
    "len(intersections)"
   ]
  },
  {
   "cell_type": "markdown",
   "metadata": {
    "id": "1Fy23bQ6etNi"
   },
   "source": [
    "##### b. Write the output to a new Shapefile\n",
    "\n"
   ]
  },
  {
   "cell_type": "markdown",
   "metadata": {
    "id": "eYjN0UitKG0T"
   },
   "source": [
    "> We will write the output to .shp file using to_file() method. This creates other dependecy files as well."
   ]
  },
  {
   "cell_type": "code",
   "execution_count": null,
   "metadata": {
    "id": "2cC-l1R6iqnf"
   },
   "outputs": [],
   "source": [
    "# Writing output to shapefile using driver as ESRI Shapefile\n",
    "intersections.to_file('/content/drive/MyDrive/Colab Notebooks/roads_intersects_buffer.shp', driver='ESRI Shapefile')"
   ]
  },
  {
   "cell_type": "markdown",
   "metadata": {
    "id": "Ix_uupn6nU4Y"
   },
   "source": [
    "## **References:**\n",
    "\n"
   ]
  },
  {
   "cell_type": "markdown",
   "metadata": {
    "id": "5JHxH-E2MTvR"
   },
   "source": [
    "* https://geopandas.org/en/stable/docs/reference.html\n",
    "\n",
    "* https://shapely.readthedocs.io/en/stable/manual.html\n",
    "\n",
    "* https://pandas.pydata.org/docs/reference/index.html\n"
   ]
  }
 ],
 "metadata": {
  "colab": {
   "authorship_tag": "ABX9TyOaR2ROmtx08AhlsQvOPj90",
   "collapsed_sections": [
    "e0KNF2U3gLyI",
    "-b76VKhcYDV6",
    "Ix_uupn6nU4Y"
   ],
   "mount_file_id": "1z55pxS0AY923NZORECkpQwbC60ACUEGD",
   "provenance": []
  },
  "kernelspec": {
   "display_name": "Python 3 (ipykernel)",
   "language": "python",
   "name": "python3"
  },
  "language_info": {
   "codemirror_mode": {
    "name": "ipython",
    "version": 3
   },
   "file_extension": ".py",
   "mimetype": "text/x-python",
   "name": "python",
   "nbconvert_exporter": "python",
   "pygments_lexer": "ipython3",
   "version": "3.9.13"
  }
 },
 "nbformat": 4,
 "nbformat_minor": 1
}
